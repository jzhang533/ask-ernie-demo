{
 "cells": [
  {
   "cell_type": "code",
   "execution_count": 1,
   "id": "5b08fd53-34ac-42c7-960c-d81946d02ee5",
   "metadata": {},
   "outputs": [],
   "source": [
    "import os\n",
    "import qianfan"
   ]
  },
  {
   "cell_type": "code",
   "execution_count": 2,
   "id": "0f5547b5-9800-4ccd-ae1f-758e5d5bb4cb",
   "metadata": {},
   "outputs": [],
   "source": [
    "os.environ['QIANFAN_AK'] = \"YOUR_APP_KEY\"\n",
    "os.environ['QIANFAN_SK'] = \"YOUR_SECRET_KEY\""
   ]
  },
  {
   "cell_type": "code",
   "execution_count": 3,
   "id": "c722df99-b62a-45e6-8792-daa43c512b6a",
   "metadata": {},
   "outputs": [],
   "source": [
    "def get_completion(prompt, model=\"ERNIE-Bot-4\"):\n",
    "    \n",
    "    chat_comp = qianfan.ChatCompletion()\n",
    "\n",
    "    # 指定特定模型\n",
    "    resp = chat_comp.do(model=model, messages=[{\n",
    "        \"role\": \"user\",\n",
    "        \"content\": prompt\n",
    "    }])\n",
    "\n",
    "    return resp[\"body\"][\"result\"]"
   ]
  },
  {
   "cell_type": "code",
   "execution_count": 4,
   "id": "0509b174-0c47-473c-b5d4-8c90ceb489f6",
   "metadata": {},
   "outputs": [
    {
     "data": {
      "text/plain": [
       "'你好，我是百度公司开发的人工智能语言模型，中文名是文心一言，英文名是ERNIE Bot。如果你有任何问题或需要帮助，请随时告诉我，我会尽力为你提供帮助。'"
      ]
     },
     "execution_count": 4,
     "metadata": {},
     "output_type": "execute_result"
    }
   ],
   "source": [
    "get_completion(\"你好\")"
   ]
  },
  {
   "cell_type": "code",
   "execution_count": 5,
   "id": "62f00eee-d55a-4692-bf41-245fe48b10b1",
   "metadata": {},
   "outputs": [],
   "source": [
    "\"\"\"完成一个复杂的任务\"\"\"\n",
    "personal_skills = \"\"\"\n",
    "我拥有扎实的计算机科学和人工智能背景，以及多年的自然语言处理经验。\\\n",
    "在之前的工作中，我参与了多个项目，包括机器翻译、情感分析、文本生成等，\\\n",
    "这些项目锻炼了我的算法设计和工程实施能力。我也深入研究了深度学习技术，\\\n",
    "并且在实际应用中获得了显著的成果。\n",
    "\"\"\"\n",
    "\n",
    "style = \"\"\"使用尊敬的口吻并且要符合写信的规范格式\"\"\""
   ]
  },
  {
   "cell_type": "code",
   "execution_count": 6,
   "id": "7f21232f-f42a-44f4-b5f6-6174635b77b5",
   "metadata": {},
   "outputs": [
    {
     "name": "stdout",
     "output_type": "stream",
     "text": [
      "请根据引号中的个人技能“\n",
      "我拥有扎实的计算机科学和人工智能背景，以及多年的自然语言处理经验。在之前的工作中，我参与了多个项目，包括机器翻译、情感分析、文本生成等，这些项目锻炼了我的算法设计和工程实施能力。我也深入研究了深度学习技术，并且在实际应用中获得了显著的成果。\n",
      "”写一封发给文心一言团队的求职信，要求为：使用尊敬的口吻并且要符合写信的规范格式\n",
      "\n"
     ]
    }
   ],
   "source": [
    "prompt = f\"\"\"请根据引号中的个人技能“{personal_skills}”写一封发给文心一言团队的求职信，要求为：{style}\n",
    "\"\"\"\n",
    "print(prompt)"
   ]
  },
  {
   "cell_type": "code",
   "execution_count": 7,
   "id": "8ca59e96-8225-4816-b407-6327bf57eb65",
   "metadata": {},
   "outputs": [],
   "source": [
    "response = get_completion(prompt)"
   ]
  },
  {
   "cell_type": "code",
   "execution_count": 8,
   "id": "5096a505-402e-4f7a-80eb-e32dd541085b",
   "metadata": {},
   "outputs": [
    {
     "name": "stdout",
     "output_type": "stream",
     "text": [
      "尊敬的文心一言团队：\n",
      "\n",
      "您好！\n",
      "\n",
      "我在得知贵团队正在寻找具有计算机科学和人工智能背景的人才后，不禁想起了我自身的经历和专业技能，因此我怀着热切的心情写下这封求职信，希望能加入贵团队，共同追求卓越。\n",
      "\n",
      "我拥有扎实的计算机科学和人工智能背景，多年的自然语言处理经验使我具备了丰富的算法设计和工程实施能力。在之前的工作中，我参与了多个项目，包括机器翻译、情感分析、文本生成等，这些项目的成功实施证明了我的专业技能和团队协作能力。此外，我也对深度学习技术进行了深入研究，并在实际应用中取得了显著的成果。\n",
      "\n",
      "我对贵团队的研究方向和目标充满热情，相信我的背景和经验能够为团队的发展做出贡献。我期待着与团队成员共同合作，共同探索人工智能领域的新境界。\n",
      "\n",
      "感谢您抽出宝贵时间阅读我的求职信。如有任何需要进一步了解的情况，请随时与我联系。期待您的回复。\n",
      "\n",
      "谨祝商祺！\n",
      "\n",
      "XXX\n"
     ]
    }
   ],
   "source": [
    "print(response)"
   ]
  },
  {
   "cell_type": "code",
   "execution_count": 9,
   "id": "cb7c590b-f119-4969-ae2d-11f942d12387",
   "metadata": {},
   "outputs": [],
   "source": [
    "from langchain.chat_models import QianfanChatEndpoint\n",
    "qianfan_chat = QianfanChatEndpoint(model=\"ERNIE-Bot-4\")"
   ]
  },
  {
   "cell_type": "code",
   "execution_count": 10,
   "id": "e5d7a328-a583-40ef-b995-5772c585448e",
   "metadata": {},
   "outputs": [],
   "source": [
    "from langchain.prompts import ChatPromptTemplate\n",
    "template_string = \"\"\"请根据引号中的个人技能“{personal_skills}”写一封发给文心一言团队的求职信，要求为：{style}\n",
    "\"\"\"\n",
    "prompt_template = ChatPromptTemplate.from_template(template_string)"
   ]
  },
  {
   "cell_type": "code",
   "execution_count": 11,
   "id": "336e585c-232e-49fc-8d12-83eb6dc59854",
   "metadata": {},
   "outputs": [
    {
     "data": {
      "text/plain": [
       "PromptTemplate(input_variables=['personal_skills', 'style'], template='请根据引号中的个人技能“{personal_skills}”写一封发给文心一言团队的求职信，要求为：{style}\\n')"
      ]
     },
     "execution_count": 11,
     "metadata": {},
     "output_type": "execute_result"
    }
   ],
   "source": [
    "prompt_template.messages[0].prompt"
   ]
  },
  {
   "cell_type": "code",
   "execution_count": 12,
   "id": "a0436a7a-bd94-46a7-9dec-b643cc93ac48",
   "metadata": {},
   "outputs": [
    {
     "data": {
      "text/plain": [
       "['personal_skills', 'style']"
      ]
     },
     "execution_count": 12,
     "metadata": {},
     "output_type": "execute_result"
    }
   ],
   "source": [
    "prompt_template.messages[0].prompt.input_variables"
   ]
  },
  {
   "cell_type": "code",
   "execution_count": 13,
   "id": "bd6d12f1-ea76-4dc7-9ede-7f5a7dff8a59",
   "metadata": {},
   "outputs": [],
   "source": [
    "customer_messages = prompt_template.format_messages(\n",
    "    style = style,\n",
    "    personal_skills = personal_skills\n",
    ")"
   ]
  },
  {
   "cell_type": "code",
   "execution_count": 15,
   "id": "a9d3c01a-4422-48bf-876c-8dfda80a12a2",
   "metadata": {},
   "outputs": [
    {
     "name": "stdout",
     "output_type": "stream",
     "text": [
      "content='请根据引号中的个人技能“\\n我拥有扎实的计算机科学和人工智能背景，以及多年的自然语言处理经验。在之前的工作中，我参与了多个项目，包括机器翻译、情感分析、文本生成等，这些项目锻炼了我的算法设计和工程实施能力。我也深入研究了深度学习技术，并且在实际应用中获得了显著的成果。\\n”写一封发给文心一言团队的求职信，要求为：使用尊敬的口吻并且要符合写信的规范格式\\n'\n"
     ]
    }
   ],
   "source": [
    "print(customer_messages[0])"
   ]
  },
  {
   "cell_type": "code",
   "execution_count": 14,
   "id": "769a24c7-5897-45a3-82b8-158e6e882589",
   "metadata": {},
   "outputs": [],
   "source": [
    "customer_response = qianfan_chat(customer_messages)"
   ]
  },
  {
   "cell_type": "code",
   "execution_count": 15,
   "id": "8c723ecf-4a04-4dc2-bdb9-d2ba6c025ec4",
   "metadata": {},
   "outputs": [
    {
     "name": "stdout",
     "output_type": "stream",
     "text": [
      "尊敬的文心一言团队：\n",
      "\n",
      "您好！\n",
      "\n",
      "我写信是为了表达我对贵团队的自然语言处理岗位的浓厚兴趣。我相信，我的专业背景和丰富的经验使我能够为您的团队做出贡献。\n",
      "\n",
      "我拥有扎实的计算机科学和人工智能背景，以及多年的自然语言处理经验。在之前的工作中，我参与了多个项目，包括机器翻译、情感分析、文本生成等。这些项目不仅锻炼了我的算法设计和工程实施能力，而且使我对自然语言处理领域有了深入的理解。我也对深度学习技术有深入的研究，并在实际应用中获得了显著的成果。\n",
      "\n",
      "我对贵团队的工作感到非常敬佩，并期待有机会将我的技能和经验与您的团队相结合，共同推动自然语言处理领域的发展。我相信我能够迅速融入您的团队，并为团队的成功做出贡献。\n",
      "\n",
      "如果有机会进一步讨论我的资历和如何能够为您的团队带来价值，我随时愿意提供更多信息。感谢您抽出宝贵的时间阅读我的求职信，期待您的回复。\n",
      "\n",
      "敬礼！\n",
      "\n",
      "[你的名字]\n"
     ]
    }
   ],
   "source": [
    "print(customer_response.content)"
   ]
  },
  {
   "cell_type": "code",
   "execution_count": null,
   "id": "5609f201-ddc5-435a-bfe6-90878071dd5f",
   "metadata": {},
   "outputs": [],
   "source": []
  }
 ],
 "metadata": {
  "kernelspec": {
   "display_name": "Python 3 (ipykernel)",
   "language": "python",
   "name": "python3"
  },
  "language_info": {
   "codemirror_mode": {
    "name": "ipython",
    "version": 3
   },
   "file_extension": ".py",
   "mimetype": "text/x-python",
   "name": "python",
   "nbconvert_exporter": "python",
   "pygments_lexer": "ipython3",
   "version": "3.9.13"
  }
 },
 "nbformat": 4,
 "nbformat_minor": 5
}
