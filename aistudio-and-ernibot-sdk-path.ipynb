{
 "cells": [
  {
   "cell_type": "code",
   "execution_count": null,
   "metadata": {
    "collapsed": false,
    "jupyter": {
     "outputs_hidden": false
    },
    "scrolled": true,
    "tags": []
   },
   "outputs": [],
   "source": [
    "!pip install erniebot"
   ]
  },
  {
   "cell_type": "code",
   "execution_count": 2,
   "metadata": {
    "scrolled": true,
    "tags": []
   },
   "outputs": [
    {
     "name": "stdout",
     "output_type": "stream",
     "text": [
      "在深圳，周末可以去的地方有很多，以下是一些推荐：\n",
      "\n",
      "* 东部华侨城：这是一个大型的主题公园，拥有各种主题区，如欧洲区、亚洲区、非洲区等，每个主题区都有其独特的游乐设施和表演。\n",
      "* 深圳野生动物园：这是一个以动物为主题的公园，有各种珍稀动物，如熊猫、长颈鹿、狮子等，可以近距离观察和了解这些动物的生活习性。\n",
      "* 深圳湾公园：这是一个海滨公园，拥有美丽的海景和休闲设施，可以进行散步、观海、野餐等活动。\n",
      "* 欢乐谷：这是一个大型的游乐场，有各种刺激和有趣的游乐设施，适合喜欢刺激和冒险的人。\n",
      "* 深圳海洋世界：这是一个以海洋为主题的水族馆，有各种海洋生物和水族表演，可以近距离观察和了解海洋生物的生活习性。\n",
      "\n",
      "此外，深圳还有许多购物中心、博物馆、艺术中心等文化娱乐场所，可以根据自己的兴趣和喜好选择合适的地方进行周末的休闲娱乐。\n"
     ]
    }
   ],
   "source": [
    "import erniebot\n",
    "\n",
    "erniebot.api_type = 'aistudio'\n",
    "erniebot.access_token = 'YOUR_ACCESS_TOKEN'\n",
    "\n",
    "response = erniebot.ChatCompletion.create(\n",
    "    model='ernie-bot',\n",
    "    messages=[{\n",
    "        'role': 'user',\n",
    "        'content': \"请问你是谁？\"\n",
    "    }, {\n",
    "        'role': 'assistant',\n",
    "        'content':\n",
    "        \"我是百度公司开发的人工智能语言模型，我的中文名是文心一言，英文名是ERNIE-Bot，可以协助您完成范围广泛的任务并提供有关各种主题的信息，比如回答问题，提供定义和解释及建议。如果您有任何问题，请随时向我提问。\"\n",
    "    }, {\n",
    "        'role': 'user',\n",
    "        'content': \"我在深圳，周末可以去哪里玩？\"\n",
    "    }])\n",
    "\n",
    "print(response.get_result())"
   ]
  },
  {
   "cell_type": "code",
   "execution_count": null,
   "metadata": {
    "scrolled": true
   },
   "outputs": [],
   "source": []
  }
 ],
 "metadata": {
  "kernelspec": {
   "display_name": "Python 3 (ipykernel)",
   "language": "python",
   "name": "python3"
  },
  "language_info": {
   "codemirror_mode": {
    "name": "ipython",
    "version": 3
   },
   "file_extension": ".py",
   "mimetype": "text/x-python",
   "name": "python",
   "nbconvert_exporter": "python",
   "pygments_lexer": "ipython3",
   "version": "3.9.13"
  }
 },
 "nbformat": 4,
 "nbformat_minor": 4
}
